{
  "nbformat": 4,
  "nbformat_minor": 0,
  "metadata": {
    "colab": {
      "provenance": [],
      "authorship_tag": "ABX9TyNnhsDG+fmCMNlryxuJ3VPS",
      "include_colab_link": true
    },
    "kernelspec": {
      "name": "python3",
      "display_name": "Python 3"
    },
    "language_info": {
      "name": "python"
    }
  },
  "cells": [
    {
      "cell_type": "markdown",
      "metadata": {
        "id": "view-in-github",
        "colab_type": "text"
      },
      "source": [
        "<a href=\"https://colab.research.google.com/github/Stananayo/AI_SE/blob/main/Tensorflow.ipynb\" target=\"_parent\"><img src=\"https://colab.research.google.com/assets/colab-badge.svg\" alt=\"Open In Colab\"/></a>"
      ]
    },
    {
      "cell_type": "code",
      "execution_count": 3,
      "metadata": {
        "id": "ujTTqteN3cUj",
        "colab": {
          "base_uri": "https://localhost:8080/"
        },
        "outputId": "bf2c0ca8-92ac-48ed-e0eb-6cec1a789afe"
      },
      "outputs": [
        {
          "output_type": "stream",
          "name": "stdout",
          "text": [
            "Epoch 1/5\n",
            "\u001b[1m1875/1875\u001b[0m \u001b[32m━━━━━━━━━━━━━━━━━━━━\u001b[0m\u001b[37m\u001b[0m \u001b[1m6s\u001b[0m 3ms/step - accuracy: 0.8610 - loss: 0.4781\n",
            "Epoch 2/5\n",
            "\u001b[1m1875/1875\u001b[0m \u001b[32m━━━━━━━━━━━━━━━━━━━━\u001b[0m\u001b[37m\u001b[0m \u001b[1m11s\u001b[0m 3ms/step - accuracy: 0.9570 - loss: 0.1458\n",
            "Epoch 3/5\n",
            "\u001b[1m1875/1875\u001b[0m \u001b[32m━━━━━━━━━━━━━━━━━━━━\u001b[0m\u001b[37m\u001b[0m \u001b[1m6s\u001b[0m 3ms/step - accuracy: 0.9673 - loss: 0.1057\n",
            "Epoch 4/5\n",
            "\u001b[1m1875/1875\u001b[0m \u001b[32m━━━━━━━━━━━━━━━━━━━━\u001b[0m\u001b[37m\u001b[0m \u001b[1m10s\u001b[0m 3ms/step - accuracy: 0.9747 - loss: 0.0848\n",
            "Epoch 5/5\n",
            "\u001b[1m1875/1875\u001b[0m \u001b[32m━━━━━━━━━━━━━━━━━━━━\u001b[0m\u001b[37m\u001b[0m \u001b[1m10s\u001b[0m 3ms/step - accuracy: 0.9761 - loss: 0.0741\n",
            "\u001b[1m313/313\u001b[0m \u001b[32m━━━━━━━━━━━━━━━━━━━━\u001b[0m\u001b[37m\u001b[0m \u001b[1m1s\u001b[0m 2ms/step - accuracy: 0.9741 - loss: 0.0847\n"
          ]
        },
        {
          "output_type": "execute_result",
          "data": {
            "text/plain": [
              "[0.07071036100387573, 0.977400004863739]"
            ]
          },
          "metadata": {},
          "execution_count": 3
        }
      ],
      "source": [
        "# Import TensorFlow. TensorFlow provides the deep learning framework and Keras API for building models.\n",
        "import tensorflow as tf\n",
        "\n",
        "# Load the MNIST dataset directly from TensorFlow's built-in datasets.\n",
        "# The dataset is automatically downloaded from an online source and split into training and test sets.\n",
        "# x_train and x_test contain image pixel data, while y_train and y_test contain the corresponding digit labels.\n",
        "(x_train, y_train), (x_test, y_test) = tf.keras.datasets.mnist.load_data()\n",
        "\n",
        "# Normalize the pixel values of the images from the original range of 0 to 255 to a range of 0 to 1.\n",
        "# This scaling helps the neural network train faster and more reliably.\n",
        "x_train, x_test = x_train / 255.0, x_test / 255.0\n",
        "\n",
        "# Build a Sequential model, which is a linear stack of layers.\n",
        "model = tf.keras.models.Sequential([\n",
        "    # The Flatten layer converts the 2D 28x28 images into a 1D array of 784 pixels.\n",
        "    tf.keras.layers.Flatten(input_shape=(28, 28)),\n",
        "\n",
        "    # A Dense (fully-connected) layer with 128 neurons and ReLU activation for introducing non-linearity.\n",
        "    tf.keras.layers.Dense(128, activation='relu'),\n",
        "\n",
        "    # Dropout layer randomly sets 20% of its inputs to zero during training.\n",
        "    # This prevents overfitting by ensuring that the model does not rely too heavily on any particular set of features.\n",
        "    tf.keras.layers.Dropout(0.2),\n",
        "\n",
        "    # The final Dense layer with 10 neurons and softmax activation.\n",
        "    # Each neuron corresponds to one of the 10 digits (0-9), and softmax outputs a probability distribution.\n",
        "    tf.keras.layers.Dense(10, activation='softmax')\n",
        "])\n",
        "\n",
        "# Compile the model.\n",
        "# - optimizer='adam': Adam optimizer adjusts the learning rate during training.\n",
        "# - loss='sparse_categorical_crossentropy': This loss function is used for integer-labeled classification.\n",
        "# - metrics=['accuracy']: The model will report accuracy during training and testing.\n",
        "model.compile(optimizer='adam',\n",
        "              loss='sparse_categorical_crossentropy',\n",
        "              metrics=['accuracy'])\n",
        "\n",
        "# Train (fit) the model on the training data over 5 epochs.\n",
        "# An epoch means one full pass through the entire training dataset.\n",
        "model.fit(x_train, y_train, epochs=5)\n",
        "\n",
        "# Evaluate the model on the test set.\n",
        "# This provides an unbiased evaluation of how well the model generalizes to new, unseen data.\n",
        "model.evaluate(x_test, y_test)"
      ]
    }
  ]
}